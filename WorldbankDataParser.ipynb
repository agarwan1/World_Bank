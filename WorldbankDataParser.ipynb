{
 "cells": [
  {
   "cell_type": "code",
   "execution_count": 24,
   "metadata": {
    "collapsed": true
   },
   "outputs": [],
   "source": [
    "import pandas as pd"
   ]
  },
  {
   "cell_type": "code",
   "execution_count": 25,
   "metadata": {},
   "outputs": [
    {
     "data": {
      "text/html": [
       "<div>\n",
       "<style>\n",
       "    .dataframe thead tr:only-child th {\n",
       "        text-align: right;\n",
       "    }\n",
       "\n",
       "    .dataframe thead th {\n",
       "        text-align: left;\n",
       "    }\n",
       "\n",
       "    .dataframe tbody tr th {\n",
       "        vertical-align: top;\n",
       "    }\n",
       "</style>\n",
       "<table border=\"1\" class=\"dataframe\">\n",
       "  <thead>\n",
       "    <tr style=\"text-align: right;\">\n",
       "      <th></th>\n",
       "      <th>Country Name</th>\n",
       "      <th>Country Code</th>\n",
       "      <th>Indicator Name</th>\n",
       "      <th>Indicator Code</th>\n",
       "      <th>1960</th>\n",
       "      <th>1961</th>\n",
       "      <th>1962</th>\n",
       "      <th>1963</th>\n",
       "      <th>1964</th>\n",
       "      <th>1965</th>\n",
       "      <th>...</th>\n",
       "      <th>2007</th>\n",
       "      <th>2008</th>\n",
       "      <th>2009</th>\n",
       "      <th>2010</th>\n",
       "      <th>2011</th>\n",
       "      <th>2012</th>\n",
       "      <th>2013</th>\n",
       "      <th>2014</th>\n",
       "      <th>2015</th>\n",
       "      <th>2016</th>\n",
       "    </tr>\n",
       "  </thead>\n",
       "  <tbody>\n",
       "    <tr>\n",
       "      <th>0</th>\n",
       "      <td>World</td>\n",
       "      <td>WLD</td>\n",
       "      <td>GDP (current US$)</td>\n",
       "      <td>NY.GDP.MKTP.CD</td>\n",
       "      <td>1.366669e+12</td>\n",
       "      <td>1.421778e+12</td>\n",
       "      <td>1.526945e+12</td>\n",
       "      <td>1.643741e+12</td>\n",
       "      <td>1.800784e+12</td>\n",
       "      <td>1.961767e+12</td>\n",
       "      <td>...</td>\n",
       "      <td>5.785848e+13</td>\n",
       "      <td>6.346136e+13</td>\n",
       "      <td>6.016787e+13</td>\n",
       "      <td>6.595461e+13</td>\n",
       "      <td>7.328041e+13</td>\n",
       "      <td>7.489051e+13</td>\n",
       "      <td>7.699301e+13</td>\n",
       "      <td>7.909092e+13</td>\n",
       "      <td>7.478188e+13</td>\n",
       "      <td>7.587174e+13</td>\n",
       "    </tr>\n",
       "    <tr>\n",
       "      <th>1</th>\n",
       "      <td>Afghanistan</td>\n",
       "      <td>AFG</td>\n",
       "      <td>GDP (current US$)</td>\n",
       "      <td>NY.GDP.MKTP.CD</td>\n",
       "      <td>5.377778e+08</td>\n",
       "      <td>5.488889e+08</td>\n",
       "      <td>5.466667e+08</td>\n",
       "      <td>7.511112e+08</td>\n",
       "      <td>8.000000e+08</td>\n",
       "      <td>1.006667e+09</td>\n",
       "      <td>...</td>\n",
       "      <td>9.843842e+09</td>\n",
       "      <td>1.019053e+10</td>\n",
       "      <td>1.248694e+10</td>\n",
       "      <td>1.593680e+10</td>\n",
       "      <td>1.793024e+10</td>\n",
       "      <td>2.053654e+10</td>\n",
       "      <td>2.026425e+10</td>\n",
       "      <td>2.061610e+10</td>\n",
       "      <td>1.921556e+10</td>\n",
       "      <td>1.946902e+10</td>\n",
       "    </tr>\n",
       "    <tr>\n",
       "      <th>2</th>\n",
       "      <td>Albania</td>\n",
       "      <td>ALB</td>\n",
       "      <td>GDP (current US$)</td>\n",
       "      <td>NY.GDP.MKTP.CD</td>\n",
       "      <td>NaN</td>\n",
       "      <td>NaN</td>\n",
       "      <td>NaN</td>\n",
       "      <td>NaN</td>\n",
       "      <td>NaN</td>\n",
       "      <td>NaN</td>\n",
       "      <td>...</td>\n",
       "      <td>1.070101e+10</td>\n",
       "      <td>1.288135e+10</td>\n",
       "      <td>1.204421e+10</td>\n",
       "      <td>1.192695e+10</td>\n",
       "      <td>1.289087e+10</td>\n",
       "      <td>1.231978e+10</td>\n",
       "      <td>1.277628e+10</td>\n",
       "      <td>1.322824e+10</td>\n",
       "      <td>1.133526e+10</td>\n",
       "      <td>1.186387e+10</td>\n",
       "    </tr>\n",
       "    <tr>\n",
       "      <th>3</th>\n",
       "      <td>Algeria</td>\n",
       "      <td>DZA</td>\n",
       "      <td>GDP (current US$)</td>\n",
       "      <td>NY.GDP.MKTP.CD</td>\n",
       "      <td>2.723649e+09</td>\n",
       "      <td>2.434777e+09</td>\n",
       "      <td>2.001469e+09</td>\n",
       "      <td>2.703015e+09</td>\n",
       "      <td>2.909352e+09</td>\n",
       "      <td>3.136259e+09</td>\n",
       "      <td>...</td>\n",
       "      <td>1.349771e+11</td>\n",
       "      <td>1.710007e+11</td>\n",
       "      <td>1.372110e+11</td>\n",
       "      <td>1.612073e+11</td>\n",
       "      <td>2.000191e+11</td>\n",
       "      <td>2.090590e+11</td>\n",
       "      <td>2.097550e+11</td>\n",
       "      <td>2.138100e+11</td>\n",
       "      <td>1.658743e+11</td>\n",
       "      <td>1.590491e+11</td>\n",
       "    </tr>\n",
       "    <tr>\n",
       "      <th>4</th>\n",
       "      <td>American Samoa</td>\n",
       "      <td>ASM</td>\n",
       "      <td>GDP (current US$)</td>\n",
       "      <td>NY.GDP.MKTP.CD</td>\n",
       "      <td>NaN</td>\n",
       "      <td>NaN</td>\n",
       "      <td>NaN</td>\n",
       "      <td>NaN</td>\n",
       "      <td>NaN</td>\n",
       "      <td>NaN</td>\n",
       "      <td>...</td>\n",
       "      <td>5.200000e+08</td>\n",
       "      <td>5.630000e+08</td>\n",
       "      <td>6.780000e+08</td>\n",
       "      <td>5.760000e+08</td>\n",
       "      <td>5.740000e+08</td>\n",
       "      <td>6.440000e+08</td>\n",
       "      <td>6.410000e+08</td>\n",
       "      <td>6.430000e+08</td>\n",
       "      <td>6.590000e+08</td>\n",
       "      <td>6.580000e+08</td>\n",
       "    </tr>\n",
       "  </tbody>\n",
       "</table>\n",
       "<p>5 rows × 61 columns</p>\n",
       "</div>"
      ],
      "text/plain": [
       "     Country Name Country Code     Indicator Name  Indicator Code  \\\n",
       "0           World          WLD  GDP (current US$)  NY.GDP.MKTP.CD   \n",
       "1     Afghanistan          AFG  GDP (current US$)  NY.GDP.MKTP.CD   \n",
       "2         Albania          ALB  GDP (current US$)  NY.GDP.MKTP.CD   \n",
       "3         Algeria          DZA  GDP (current US$)  NY.GDP.MKTP.CD   \n",
       "4  American Samoa          ASM  GDP (current US$)  NY.GDP.MKTP.CD   \n",
       "\n",
       "           1960          1961          1962          1963          1964  \\\n",
       "0  1.366669e+12  1.421778e+12  1.526945e+12  1.643741e+12  1.800784e+12   \n",
       "1  5.377778e+08  5.488889e+08  5.466667e+08  7.511112e+08  8.000000e+08   \n",
       "2           NaN           NaN           NaN           NaN           NaN   \n",
       "3  2.723649e+09  2.434777e+09  2.001469e+09  2.703015e+09  2.909352e+09   \n",
       "4           NaN           NaN           NaN           NaN           NaN   \n",
       "\n",
       "           1965      ...               2007          2008          2009  \\\n",
       "0  1.961767e+12      ...       5.785848e+13  6.346136e+13  6.016787e+13   \n",
       "1  1.006667e+09      ...       9.843842e+09  1.019053e+10  1.248694e+10   \n",
       "2           NaN      ...       1.070101e+10  1.288135e+10  1.204421e+10   \n",
       "3  3.136259e+09      ...       1.349771e+11  1.710007e+11  1.372110e+11   \n",
       "4           NaN      ...       5.200000e+08  5.630000e+08  6.780000e+08   \n",
       "\n",
       "           2010          2011          2012          2013          2014  \\\n",
       "0  6.595461e+13  7.328041e+13  7.489051e+13  7.699301e+13  7.909092e+13   \n",
       "1  1.593680e+10  1.793024e+10  2.053654e+10  2.026425e+10  2.061610e+10   \n",
       "2  1.192695e+10  1.289087e+10  1.231978e+10  1.277628e+10  1.322824e+10   \n",
       "3  1.612073e+11  2.000191e+11  2.090590e+11  2.097550e+11  2.138100e+11   \n",
       "4  5.760000e+08  5.740000e+08  6.440000e+08  6.410000e+08  6.430000e+08   \n",
       "\n",
       "           2015          2016  \n",
       "0  7.478188e+13  7.587174e+13  \n",
       "1  1.921556e+10  1.946902e+10  \n",
       "2  1.133526e+10  1.186387e+10  \n",
       "3  1.658743e+11  1.590491e+11  \n",
       "4  6.590000e+08  6.580000e+08  \n",
       "\n",
       "[5 rows x 61 columns]"
      ]
     },
     "execution_count": 25,
     "metadata": {},
     "output_type": "execute_result"
    }
   ],
   "source": [
    "xl = pd.ExcelFile(\"C:/Users/jingc/Documents/Project 2/GDP.xlsx\")\n",
    "df = xl.parse(\"gdp\")\n",
    "df.head()\n"
   ]
  },
  {
   "cell_type": "code",
   "execution_count": 26,
   "metadata": {
    "collapsed": true
   },
   "outputs": [],
   "source": [
    "gdp_dict = {\n",
    "   # \"Year\": year,\n",
    "    #\"Country_Name\":country_name,\n",
    "    #\"Country_Code\":country_code,\n",
    "    #\"Indicator_Code\": indicator_code,\n",
    "    #\"GDP\":gdp    \n",
    "}\n",
    "year = []\n",
    "gdp = []\n",
    "country_name=[]\n",
    "country_code = []\n",
    "indicator_code = []"
   ]
  },
  {
   "cell_type": "code",
   "execution_count": 27,
   "metadata": {
    "collapsed": true
   },
   "outputs": [],
   "source": [
    "for i in range (4, 61):\n",
    "#for i in range (4, 6):\n",
    "    name = df.columns[i]\n",
    "    for index, row in df.iterrows():\n",
    "        year.append(name)\n",
    "        country_name.append(row['Country Name'])\n",
    "        country_code.append(row['Country Code'])\n",
    "        indicator_code.append(row['Indicator Name'])\n",
    "        gdp.append(row[i])"
   ]
  },
  {
   "cell_type": "code",
   "execution_count": 28,
   "metadata": {
    "collapsed": true
   },
   "outputs": [],
   "source": [
    "x2 = pd.ExcelFile(\"C:/Users/jingc/Documents/Project 2/WDIData_filtered.xlsx\")\n"
   ]
  },
  {
   "cell_type": "code",
   "execution_count": 29,
   "metadata": {},
   "outputs": [
    {
     "data": {
      "text/plain": [
       "12426"
      ]
     },
     "execution_count": 29,
     "metadata": {},
     "output_type": "execute_result"
    }
   ],
   "source": [
    "df1 = x2.parse(\"popdensity\")\n",
    "df1.head()\n",
    "population_density = []\n",
    "\n",
    "for i in range (4, 61):   \n",
    "    for index, row in df1.iterrows():\n",
    "        population_density.append(row[i])\n",
    "len(population_density)"
   ]
  },
  {
   "cell_type": "code",
   "execution_count": 30,
   "metadata": {},
   "outputs": [
    {
     "data": {
      "text/plain": [
       "12426"
      ]
     },
     "execution_count": 30,
     "metadata": {},
     "output_type": "execute_result"
    }
   ],
   "source": [
    "\n",
    "df_gdppercapita = x2.parse(\"gdppercapita\")\n",
    "\n",
    "gdp_percapita= []\n",
    "\n",
    "for i in range (4, 61):\n",
    "    for index, row in df_gdppercapita.iterrows():\n",
    "           gdp_percapita.append(row[i])\n",
    "len(gdp_percapita)"
   ]
  },
  {
   "cell_type": "code",
   "execution_count": 31,
   "metadata": {},
   "outputs": [
    {
     "data": {
      "text/plain": [
       "12426"
      ]
     },
     "execution_count": 31,
     "metadata": {},
     "output_type": "execute_result"
    }
   ],
   "source": [
    "df_suiciderate = x2.parse(\"suiciderate\")\n",
    "\n",
    "suicide_rate= []\n",
    "\n",
    "for i in range (4, 61):\n",
    "    for index, row in df_suiciderate.iterrows():\n",
    "          suicide_rate.append(row[i])\n",
    "len(suicide_rate)"
   ]
  },
  {
   "cell_type": "code",
   "execution_count": 32,
   "metadata": {},
   "outputs": [
    {
     "data": {
      "text/plain": [
       "12426"
      ]
     },
     "execution_count": 32,
     "metadata": {},
     "output_type": "execute_result"
    }
   ],
   "source": [
    "df_co2 = x2.parse(\"co2emission\")\n",
    "\n",
    "co2_emission= []\n",
    "\n",
    "for i in range (4, 61):\n",
    "    for index, row in df_co2.iterrows():\n",
    "          co2_emission.append(row[i])\n",
    "len(co2_emission)"
   ]
  },
  {
   "cell_type": "code",
   "execution_count": 33,
   "metadata": {},
   "outputs": [
    {
     "data": {
      "text/plain": [
       "12426"
      ]
     },
     "execution_count": 33,
     "metadata": {},
     "output_type": "execute_result"
    }
   ],
   "source": [
    "df_electricity = x2.parse(\"accesstoelectricity\")\n",
    "\n",
    "access_electricity= []\n",
    "\n",
    "for i in range (4, 61):\n",
    "    for index, row in df_electricity.iterrows():\n",
    "          access_electricity.append(row[i])\n",
    "len(access_electricity)"
   ]
  },
  {
   "cell_type": "code",
   "execution_count": 35,
   "metadata": {},
   "outputs": [],
   "source": [
    "df_literacyrate = x2.parse(\"literacyrate\")\n",
    "\n",
    "literacy_rate= []\n",
    "\n",
    "for i in range (4, 61):\n",
    "    for index, row in df_literacyrate.iterrows():\n",
    "          literacy_rate.append(row[i])\n"
   ]
  },
  {
   "cell_type": "code",
   "execution_count": 36,
   "metadata": {
    "collapsed": true
   },
   "outputs": [],
   "source": [
    "gdp_dict = {\n",
    "    \"Year\": year,\n",
    "    \"Country_Name\":country_name,\n",
    "    \"Country_Code\":country_code,\n",
    "  #  \"Indicator_Code\": indicator_code,\n",
    "    \"GDP\":gdp,\n",
    "    \"GDP_PerCapita\":gdp_percapita,\n",
    "    \"Population_Density\":population_density,\n",
    "    \"Suicide_Rate\":suicide_rate,\n",
    "    \"Literacy_Rate\":literacy_rate,\n",
    "    \"CO2_Emission\":co2_emission,\n",
    "    \"Access_Electricity\":access_electricity\n",
    "}"
   ]
  },
  {
   "cell_type": "code",
   "execution_count": 40,
   "metadata": {},
   "outputs": [
    {
     "data": {
      "text/html": [
       "<div>\n",
       "<style>\n",
       "    .dataframe thead tr:only-child th {\n",
       "        text-align: right;\n",
       "    }\n",
       "\n",
       "    .dataframe thead th {\n",
       "        text-align: left;\n",
       "    }\n",
       "\n",
       "    .dataframe tbody tr th {\n",
       "        vertical-align: top;\n",
       "    }\n",
       "</style>\n",
       "<table border=\"1\" class=\"dataframe\">\n",
       "  <thead>\n",
       "    <tr style=\"text-align: right;\">\n",
       "      <th></th>\n",
       "      <th>Access_Electricity</th>\n",
       "      <th>CO2_Emission</th>\n",
       "      <th>Country_Code</th>\n",
       "      <th>Country_Name</th>\n",
       "      <th>GDP</th>\n",
       "      <th>GDP_PerCapita</th>\n",
       "      <th>Literacy_Rate</th>\n",
       "      <th>Population_Density</th>\n",
       "      <th>Suicide_Rate</th>\n",
       "      <th>Year</th>\n",
       "    </tr>\n",
       "  </thead>\n",
       "  <tbody>\n",
       "    <tr>\n",
       "      <th>0</th>\n",
       "      <td>NaN</td>\n",
       "      <td>9396705.835</td>\n",
       "      <td>WLD</td>\n",
       "      <td>World</td>\n",
       "      <td>1.366669e+12</td>\n",
       "      <td>450.724495</td>\n",
       "      <td>NaN</td>\n",
       "      <td>NaN</td>\n",
       "      <td>NaN</td>\n",
       "      <td>1960</td>\n",
       "    </tr>\n",
       "    <tr>\n",
       "      <th>1</th>\n",
       "      <td>NaN</td>\n",
       "      <td>414.371</td>\n",
       "      <td>AFG</td>\n",
       "      <td>Afghanistan</td>\n",
       "      <td>5.377778e+08</td>\n",
       "      <td>59.777327</td>\n",
       "      <td>NaN</td>\n",
       "      <td>NaN</td>\n",
       "      <td>NaN</td>\n",
       "      <td>1960</td>\n",
       "    </tr>\n",
       "    <tr>\n",
       "      <th>2</th>\n",
       "      <td>NaN</td>\n",
       "      <td>2024.184</td>\n",
       "      <td>ALB</td>\n",
       "      <td>Albania</td>\n",
       "      <td>NaN</td>\n",
       "      <td>NaN</td>\n",
       "      <td>NaN</td>\n",
       "      <td>NaN</td>\n",
       "      <td>NaN</td>\n",
       "      <td>1960</td>\n",
       "    </tr>\n",
       "    <tr>\n",
       "      <th>3</th>\n",
       "      <td>NaN</td>\n",
       "      <td>6160.560</td>\n",
       "      <td>DZA</td>\n",
       "      <td>Algeria</td>\n",
       "      <td>2.723649e+09</td>\n",
       "      <td>244.824806</td>\n",
       "      <td>NaN</td>\n",
       "      <td>NaN</td>\n",
       "      <td>NaN</td>\n",
       "      <td>1960</td>\n",
       "    </tr>\n",
       "    <tr>\n",
       "      <th>4</th>\n",
       "      <td>NaN</td>\n",
       "      <td>NaN</td>\n",
       "      <td>ASM</td>\n",
       "      <td>American Samoa</td>\n",
       "      <td>NaN</td>\n",
       "      <td>NaN</td>\n",
       "      <td>NaN</td>\n",
       "      <td>NaN</td>\n",
       "      <td>NaN</td>\n",
       "      <td>1960</td>\n",
       "    </tr>\n",
       "  </tbody>\n",
       "</table>\n",
       "</div>"
      ],
      "text/plain": [
       "   Access_Electricity  CO2_Emission Country_Code    Country_Name  \\\n",
       "0                 NaN   9396705.835          WLD           World   \n",
       "1                 NaN       414.371          AFG     Afghanistan   \n",
       "2                 NaN      2024.184          ALB         Albania   \n",
       "3                 NaN      6160.560          DZA         Algeria   \n",
       "4                 NaN           NaN          ASM  American Samoa   \n",
       "\n",
       "            GDP  GDP_PerCapita  Literacy_Rate  Population_Density  \\\n",
       "0  1.366669e+12     450.724495            NaN                 NaN   \n",
       "1  5.377778e+08      59.777327            NaN                 NaN   \n",
       "2           NaN            NaN            NaN                 NaN   \n",
       "3  2.723649e+09     244.824806            NaN                 NaN   \n",
       "4           NaN            NaN            NaN                 NaN   \n",
       "\n",
       "   Suicide_Rate  Year  \n",
       "0           NaN  1960  \n",
       "1           NaN  1960  \n",
       "2           NaN  1960  \n",
       "3           NaN  1960  \n",
       "4           NaN  1960  "
      ]
     },
     "execution_count": 40,
     "metadata": {},
     "output_type": "execute_result"
    }
   ],
   "source": [
    "gdp_df = pd.DataFrame(gdp_dict)\n",
    "gdp_df.head()"
   ]
  },
  {
   "cell_type": "code",
   "execution_count": null,
   "metadata": {
    "collapsed": true
   },
   "outputs": [],
   "source": [
    "gdp_df.to_csv(\"C:/Users/jingc/Documents/Project 2/\")"
   ]
  }
 ],
 "metadata": {
  "kernelspec": {
   "display_name": "Python 3",
   "language": "python",
   "name": "python3"
  },
  "language_info": {
   "codemirror_mode": {
    "name": "ipython",
    "version": 3
   },
   "file_extension": ".py",
   "mimetype": "text/x-python",
   "name": "python",
   "nbconvert_exporter": "python",
   "pygments_lexer": "ipython3",
   "version": "3.6.3"
  }
 },
 "nbformat": 4,
 "nbformat_minor": 2
}
